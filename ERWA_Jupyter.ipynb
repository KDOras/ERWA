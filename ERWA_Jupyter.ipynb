{
 "cells": [
  {
   "cell_type": "markdown",
   "metadata": {},
   "source": [
    "# Elden Ring Weapons Analytics"
   ]
  },
  {
   "cell_type": "markdown",
   "metadata": {},
   "source": [
    "### Project imports"
   ]
  },
  {
   "cell_type": "code",
   "execution_count": 10,
   "metadata": {},
   "outputs": [],
   "source": [
    "import pandas as pd\n",
    "import ipywidgets as widgets\n",
    "from IPython.display import display, HTML\n",
    "import matplotlib.pyplot as plt\n",
    "import seaborn as sns"
   ]
  },
  {
   "cell_type": "markdown",
   "metadata": {},
   "source": [
    "### Search for weapons"
   ]
  },
  {
   "cell_type": "markdown",
   "metadata": {},
   "source": [
    "#### All weapons"
   ]
  },
  {
   "cell_type": "code",
   "execution_count": 11,
   "metadata": {},
   "outputs": [
    {
     "data": {
      "text/html": [
       "<div>\n",
       "<style scoped>\n",
       "    .dataframe tbody tr th:only-of-type {\n",
       "        vertical-align: middle;\n",
       "    }\n",
       "\n",
       "    .dataframe tbody tr th {\n",
       "        vertical-align: top;\n",
       "    }\n",
       "\n",
       "    .dataframe thead th {\n",
       "        text-align: right;\n",
       "    }\n",
       "</style>\n",
       "<table border=\"1\" class=\"dataframe\">\n",
       "  <thead>\n",
       "    <tr style=\"text-align: right;\">\n",
       "      <th></th>\n",
       "      <th>Name</th>\n",
       "      <th>Type</th>\n",
       "      <th>Physic Damage</th>\n",
       "      <th>Magic Damage</th>\n",
       "      <th>Fire Damage</th>\n",
       "      <th>Light Damage</th>\n",
       "      <th>Holy Damage</th>\n",
       "      <th>Crit Damage</th>\n",
       "      <th>Stamina</th>\n",
       "      <th>Str</th>\n",
       "      <th>...</th>\n",
       "      <th>Special Effect Damage</th>\n",
       "      <th>Physic Blocking</th>\n",
       "      <th>Magic Blocking</th>\n",
       "      <th>Fire Blocking</th>\n",
       "      <th>Light Blocking</th>\n",
       "      <th>Holy Blocking</th>\n",
       "      <th>Boost</th>\n",
       "      <th>Rest</th>\n",
       "      <th>Weight</th>\n",
       "      <th>Upgrade Material</th>\n",
       "    </tr>\n",
       "  </thead>\n",
       "  <tbody>\n",
       "    <tr>\n",
       "      <th>0</th>\n",
       "      <td>Academy Glintstone Staff</td>\n",
       "      <td>Glintstone Staff</td>\n",
       "      <td>43</td>\n",
       "      <td>-</td>\n",
       "      <td>-</td>\n",
       "      <td>-</td>\n",
       "      <td>-</td>\n",
       "      <td>100</td>\n",
       "      <td>40</td>\n",
       "      <td>D</td>\n",
       "      <td>...</td>\n",
       "      <td>-</td>\n",
       "      <td>25</td>\n",
       "      <td>15</td>\n",
       "      <td>15</td>\n",
       "      <td>15</td>\n",
       "      <td>15</td>\n",
       "      <td>15</td>\n",
       "      <td>10</td>\n",
       "      <td>3.0</td>\n",
       "      <td>Smithing Stones</td>\n",
       "    </tr>\n",
       "    <tr>\n",
       "      <th>1</th>\n",
       "      <td>Alabaster Lord's Sword</td>\n",
       "      <td>Greatsword</td>\n",
       "      <td>313</td>\n",
       "      <td>93</td>\n",
       "      <td>-</td>\n",
       "      <td>-</td>\n",
       "      <td>-</td>\n",
       "      <td>100</td>\n",
       "      <td>126</td>\n",
       "      <td>B</td>\n",
       "      <td>...</td>\n",
       "      <td>-</td>\n",
       "      <td>56</td>\n",
       "      <td>33</td>\n",
       "      <td>27</td>\n",
       "      <td>27</td>\n",
       "      <td>27</td>\n",
       "      <td>39</td>\n",
       "      <td>19</td>\n",
       "      <td>8.0</td>\n",
       "      <td>Somber Smithing Stones</td>\n",
       "    </tr>\n",
       "    <tr>\n",
       "      <th>2</th>\n",
       "      <td>Albinauric Bow</td>\n",
       "      <td>Bow</td>\n",
       "      <td>200</td>\n",
       "      <td>-</td>\n",
       "      <td>-</td>\n",
       "      <td>-</td>\n",
       "      <td>-</td>\n",
       "      <td>100</td>\n",
       "      <td>60</td>\n",
       "      <td>E</td>\n",
       "      <td>...</td>\n",
       "      <td>-</td>\n",
       "      <td>-</td>\n",
       "      <td>-</td>\n",
       "      <td>-</td>\n",
       "      <td>-</td>\n",
       "      <td>-</td>\n",
       "      <td>-</td>\n",
       "      <td>-</td>\n",
       "      <td>4.5</td>\n",
       "      <td>Smithing Stones</td>\n",
       "    </tr>\n",
       "    <tr>\n",
       "      <th>3</th>\n",
       "      <td>Albinauric Staff</td>\n",
       "      <td>Glintstone Staff</td>\n",
       "      <td>29</td>\n",
       "      <td>-</td>\n",
       "      <td>-</td>\n",
       "      <td>-</td>\n",
       "      <td>-</td>\n",
       "      <td>100</td>\n",
       "      <td>38</td>\n",
       "      <td>D</td>\n",
       "      <td>...</td>\n",
       "      <td>-</td>\n",
       "      <td>23</td>\n",
       "      <td>14</td>\n",
       "      <td>14</td>\n",
       "      <td>14</td>\n",
       "      <td>14</td>\n",
       "      <td>14</td>\n",
       "      <td>9</td>\n",
       "      <td>2.5</td>\n",
       "      <td>Smithing Stones</td>\n",
       "    </tr>\n",
       "    <tr>\n",
       "      <th>4</th>\n",
       "      <td>Antspur Rapier</td>\n",
       "      <td>Thrusting Sword</td>\n",
       "      <td>240</td>\n",
       "      <td>-</td>\n",
       "      <td>-</td>\n",
       "      <td>-</td>\n",
       "      <td>-</td>\n",
       "      <td>100</td>\n",
       "      <td>62</td>\n",
       "      <td>D</td>\n",
       "      <td>...</td>\n",
       "      <td>(55)</td>\n",
       "      <td>47</td>\n",
       "      <td>31</td>\n",
       "      <td>31</td>\n",
       "      <td>31</td>\n",
       "      <td>31</td>\n",
       "      <td>25</td>\n",
       "      <td>10</td>\n",
       "      <td>3.0</td>\n",
       "      <td>Smithing Stones</td>\n",
       "    </tr>\n",
       "    <tr>\n",
       "      <th>...</th>\n",
       "      <td>...</td>\n",
       "      <td>...</td>\n",
       "      <td>...</td>\n",
       "      <td>...</td>\n",
       "      <td>...</td>\n",
       "      <td>...</td>\n",
       "      <td>...</td>\n",
       "      <td>...</td>\n",
       "      <td>...</td>\n",
       "      <td>...</td>\n",
       "      <td>...</td>\n",
       "      <td>...</td>\n",
       "      <td>...</td>\n",
       "      <td>...</td>\n",
       "      <td>...</td>\n",
       "      <td>...</td>\n",
       "      <td>...</td>\n",
       "      <td>...</td>\n",
       "      <td>...</td>\n",
       "      <td>...</td>\n",
       "      <td>...</td>\n",
       "    </tr>\n",
       "    <tr>\n",
       "      <th>302</th>\n",
       "      <td>Wing of Astel</td>\n",
       "      <td>Curved Sword</td>\n",
       "      <td>159</td>\n",
       "      <td>191</td>\n",
       "      <td>-</td>\n",
       "      <td>-</td>\n",
       "      <td>-</td>\n",
       "      <td>100</td>\n",
       "      <td>84</td>\n",
       "      <td>E</td>\n",
       "      <td>...</td>\n",
       "      <td>-</td>\n",
       "      <td>28</td>\n",
       "      <td>52</td>\n",
       "      <td>23</td>\n",
       "      <td>23</td>\n",
       "      <td>23</td>\n",
       "      <td>23</td>\n",
       "      <td>9</td>\n",
       "      <td>2.5</td>\n",
       "      <td>Somber Smithing Stones</td>\n",
       "    </tr>\n",
       "    <tr>\n",
       "      <th>303</th>\n",
       "      <td>Winged Greathorn</td>\n",
       "      <td>Greataxe</td>\n",
       "      <td>318</td>\n",
       "      <td>-</td>\n",
       "      <td>-</td>\n",
       "      <td>-</td>\n",
       "      <td>-</td>\n",
       "      <td>100</td>\n",
       "      <td>150</td>\n",
       "      <td>C</td>\n",
       "      <td>...</td>\n",
       "      <td>-</td>\n",
       "      <td>65</td>\n",
       "      <td>35</td>\n",
       "      <td>35</td>\n",
       "      <td>35</td>\n",
       "      <td>35</td>\n",
       "      <td>42</td>\n",
       "      <td>20</td>\n",
       "      <td>11.0</td>\n",
       "      <td>Somber Smithing Stones</td>\n",
       "    </tr>\n",
       "    <tr>\n",
       "      <th>304</th>\n",
       "      <td>Winged Scythe</td>\n",
       "      <td>Reaper</td>\n",
       "      <td>213</td>\n",
       "      <td>-</td>\n",
       "      <td>-</td>\n",
       "      <td>-</td>\n",
       "      <td>254</td>\n",
       "      <td>100</td>\n",
       "      <td>110</td>\n",
       "      <td>D</td>\n",
       "      <td>...</td>\n",
       "      <td>(55)</td>\n",
       "      <td>30</td>\n",
       "      <td>25</td>\n",
       "      <td>25</td>\n",
       "      <td>25</td>\n",
       "      <td>55</td>\n",
       "      <td>30</td>\n",
       "      <td>15</td>\n",
       "      <td>7.5</td>\n",
       "      <td>Somber Smithing Stones</td>\n",
       "    </tr>\n",
       "    <tr>\n",
       "      <th>305</th>\n",
       "      <td>Zamor Curved Sword</td>\n",
       "      <td>Curved Greatsword</td>\n",
       "      <td>306</td>\n",
       "      <td>-</td>\n",
       "      <td>-</td>\n",
       "      <td>-</td>\n",
       "      <td>-</td>\n",
       "      <td>100</td>\n",
       "      <td>128</td>\n",
       "      <td>C</td>\n",
       "      <td>...</td>\n",
       "      <td>(65)</td>\n",
       "      <td>61</td>\n",
       "      <td>33</td>\n",
       "      <td>33</td>\n",
       "      <td>33</td>\n",
       "      <td>33</td>\n",
       "      <td>39</td>\n",
       "      <td>19</td>\n",
       "      <td>9.0</td>\n",
       "      <td>Somber Smithing Stones</td>\n",
       "    </tr>\n",
       "    <tr>\n",
       "      <th>306</th>\n",
       "      <td>Zweihander</td>\n",
       "      <td>Colossal Sword</td>\n",
       "      <td>345</td>\n",
       "      <td>-</td>\n",
       "      <td>-</td>\n",
       "      <td>-</td>\n",
       "      <td>-</td>\n",
       "      <td>100</td>\n",
       "      <td>126</td>\n",
       "      <td>D</td>\n",
       "      <td>...</td>\n",
       "      <td>-</td>\n",
       "      <td>67</td>\n",
       "      <td>40</td>\n",
       "      <td>40</td>\n",
       "      <td>40</td>\n",
       "      <td>40</td>\n",
       "      <td>54</td>\n",
       "      <td>22</td>\n",
       "      <td>15.5</td>\n",
       "      <td>Smithing Stones</td>\n",
       "    </tr>\n",
       "  </tbody>\n",
       "</table>\n",
       "<p>307 rows × 24 columns</p>\n",
       "</div>"
      ],
      "text/plain": [
       "                         Name               Type Physic Damage Magic Damage  \\\n",
       "0    Academy Glintstone Staff   Glintstone Staff            43            -   \n",
       "1      Alabaster Lord's Sword         Greatsword           313           93   \n",
       "2              Albinauric Bow                Bow           200            -   \n",
       "3            Albinauric Staff   Glintstone Staff            29            -   \n",
       "4              Antspur Rapier    Thrusting Sword           240            -   \n",
       "..                        ...                ...           ...          ...   \n",
       "302             Wing of Astel       Curved Sword           159          191   \n",
       "303          Winged Greathorn           Greataxe           318            -   \n",
       "304             Winged Scythe             Reaper           213            -   \n",
       "305        Zamor Curved Sword  Curved Greatsword           306            -   \n",
       "306                Zweihander     Colossal Sword           345            -   \n",
       "\n",
       "    Fire Damage Light Damage Holy Damage  Crit Damage  Stamina Str  ...  \\\n",
       "0             -            -           -          100       40   D  ...   \n",
       "1             -            -           -          100      126   B  ...   \n",
       "2             -            -           -          100       60   E  ...   \n",
       "3             -            -           -          100       38   D  ...   \n",
       "4             -            -           -          100       62   D  ...   \n",
       "..          ...          ...         ...          ...      ...  ..  ...   \n",
       "302           -            -           -          100       84   E  ...   \n",
       "303           -            -           -          100      150   C  ...   \n",
       "304           -            -         254          100      110   D  ...   \n",
       "305           -            -           -          100      128   C  ...   \n",
       "306           -            -           -          100      126   D  ...   \n",
       "\n",
       "    Special Effect Damage Physic Blocking Magic Blocking Fire Blocking  \\\n",
       "0                       -              25             15            15   \n",
       "1                       -              56             33            27   \n",
       "2                       -               -              -             -   \n",
       "3                       -              23             14            14   \n",
       "4                    (55)              47             31            31   \n",
       "..                    ...             ...            ...           ...   \n",
       "302                     -              28             52            23   \n",
       "303                     -              65             35            35   \n",
       "304                  (55)              30             25            25   \n",
       "305                  (65)              61             33            33   \n",
       "306                     -              67             40            40   \n",
       "\n",
       "    Light Blocking Holy Blocking Boost Rest Weight        Upgrade Material  \n",
       "0               15            15    15   10    3.0         Smithing Stones  \n",
       "1               27            27    39   19    8.0  Somber Smithing Stones  \n",
       "2                -             -     -    -    4.5         Smithing Stones  \n",
       "3               14            14    14    9    2.5         Smithing Stones  \n",
       "4               31            31    25   10    3.0         Smithing Stones  \n",
       "..             ...           ...   ...  ...    ...                     ...  \n",
       "302             23            23    23    9    2.5  Somber Smithing Stones  \n",
       "303             35            35    42   20   11.0  Somber Smithing Stones  \n",
       "304             25            55    30   15    7.5  Somber Smithing Stones  \n",
       "305             33            33    39   19    9.0  Somber Smithing Stones  \n",
       "306             40            40    54   22   15.5         Smithing Stones  \n",
       "\n",
       "[307 rows x 24 columns]"
      ]
     },
     "execution_count": 11,
     "metadata": {},
     "output_type": "execute_result"
    }
   ],
   "source": [
    "db = pd.read_csv(\"Data/elden_ring_weapon.csv\")\n",
    "db"
   ]
  },
  {
   "cell_type": "markdown",
   "metadata": {},
   "source": [
    "##### Weapon types"
   ]
  },
  {
   "cell_type": "code",
   "execution_count": 12,
   "metadata": {},
   "outputs": [
    {
     "data": {
      "text/plain": [
       "array(['Glintstone Staff', 'Greatsword', 'Bow', 'Thrusting Sword',\n",
       "       'Crossbow', 'Colossal Weapon', 'Greataxe', 'Curved Sword',\n",
       "       'Halberd', 'Flail', 'Axe', 'Warhammer', 'Torch',\n",
       "       'Curved Greatsword', 'Dagger', 'Claw', 'Heavy Thrusting Sword',\n",
       "       'Spear', 'Straight Sword', 'Fist', 'Sacred Seal', 'Hammer',\n",
       "       'Light Bow', 'Katana', 'Twinblade', 'Greatbow', 'Whip',\n",
       "       'Colossal Sword', 'Reaper', 'Ballista', 'Great Spear'],\n",
       "      dtype=object)"
      ]
     },
     "execution_count": 12,
     "metadata": {},
     "output_type": "execute_result"
    }
   ],
   "source": [
    "wt = db[\"Type\"].unique()\n",
    "wt"
   ]
  },
  {
   "cell_type": "markdown",
   "metadata": {},
   "source": [
    "#### Advanced Search"
   ]
  },
  {
   "cell_type": "markdown",
   "metadata": {},
   "source": [
    "##### Weapon type:"
   ]
  },
  {
   "cell_type": "code",
   "execution_count": 13,
   "metadata": {},
   "outputs": [
    {
     "data": {
      "application/vnd.jupyter.widget-view+json": {
       "model_id": "20a2a3d02e914d0bbcefae0485edd266",
       "version_major": 2,
       "version_minor": 0
      },
      "text/plain": [
       "interactive(children=(Dropdown(description='Weapon Type', options=('Glintstone Staff', 'Greatsword', 'Bow', 'T…"
      ]
     },
     "metadata": {},
     "output_type": "display_data"
    }
   ],
   "source": [
    "# Créer un menu déroulant\n",
    "dropdown = widgets.Dropdown(\n",
    "    options=wt,\n",
    "    description=\"Weapon Type\",\n",
    "    style={'description_width': 'initial'}\n",
    ")\n",
    "\n",
    "# Fonction pour afficher les armes filtrées\n",
    "def PrintWeapons(SelectedType):\n",
    "    filteredWeapons = db[db[\"Type\"] == SelectedType].drop(columns=[\"Type\"])\n",
    "    display(HTML(filteredWeapons.to_html(index=False)))\n",
    "    # Appliquer un style CSS pour limiter la largeur du tableau\n",
    "    display(HTML(\"\"\"\n",
    "        <style>\n",
    "            table { width: 100%; display: block; overflow-x: auto; }\n",
    "            th, td { padding: 5px; text-align: left; white-space: nowrap; }\n",
    "        </style>\n",
    "    \"\"\"))\n",
    "\n",
    "# Lier la fonction au widget\n",
    "widgets.interactive(PrintWeapons, SelectedType=dropdown)"
   ]
  },
  {
   "cell_type": "markdown",
   "metadata": {},
   "source": [
    "##### Weapon Scaling:"
   ]
  },
  {
   "cell_type": "code",
   "execution_count": 14,
   "metadata": {},
   "outputs": [
    {
     "data": {
      "application/vnd.jupyter.widget-view+json": {
       "model_id": "b44fbbd1b33f4c7db19fd41b0fe1224e",
       "version_major": 2,
       "version_minor": 0
      },
      "text/plain": [
       "interactive(children=(Dropdown(description='Weapon Scalling', options=('D', 'B', 'E', '-', 'C', 'A', 'S'), sty…"
      ]
     },
     "metadata": {},
     "output_type": "display_data"
    }
   ],
   "source": [
    "sc = db[\"Str\"].unique()\n",
    "sct = [\"Str\", \"Dex\", \"Int\", \"Fai\", \"Arc\"]\n",
    "\n",
    "# Créer un menu déroulant\n",
    "dropdown = widgets.Dropdown(\n",
    "    options=sc,\n",
    "    description=\"Weapon Scalling\",\n",
    "    style={'description_width': 'initial'}\n",
    ")\n",
    "\n",
    "dropdown2 = widgets.Dropdown(\n",
    "    options=sct,\n",
    "    description=\"Weapon Type Scalling\",\n",
    "    style={'description_width': 'initial'}\n",
    ")\n",
    "\n",
    "# Fonction pour afficher les armes filtrées\n",
    "def PrintScalling(SelectedScalling, SelectedScallingType):\n",
    "    filteredWeapons = db[db[SelectedScallingType] == SelectedScalling]\n",
    "    display(HTML(filteredWeapons.to_html(index=False)))\n",
    "    # Appliquer un style CSS pour limiter la largeur du tableau\n",
    "    display(HTML(\"\"\"\n",
    "        <style>\n",
    "            table { width: 100%; display: block; overflow-x: auto; }\n",
    "            th, td { padding: 5px; text-align: left; white-space: nowrap; }\n",
    "        </style>\n",
    "    \"\"\"))\n",
    "\n",
    "# Lier la fonction au widget\n",
    "widgets.interactive(PrintScalling, SelectedScalling=dropdown, SelectedScallingType=dropdown2)"
   ]
  },
  {
   "cell_type": "markdown",
   "metadata": {},
   "source": [
    "##### Damage Type: "
   ]
  },
  {
   "cell_type": "code",
   "execution_count": 15,
   "metadata": {},
   "outputs": [
    {
     "data": {
      "application/vnd.jupyter.widget-view+json": {
       "model_id": "b514683999b042488e7620de8d768df3",
       "version_major": 2,
       "version_minor": 0
      },
      "text/plain": [
       "interactive(children=(Dropdown(description='Weapon Damage Type', options=('Physic Damage', 'Magic Damage', 'Fi…"
      ]
     },
     "metadata": {},
     "output_type": "display_data"
    }
   ],
   "source": [
    "dt = [\"Physic Damage\", \"Magic Damage\", \"Fire Damage\", \"Light Damage\", \"Holy Damage\"]\n",
    "\n",
    "# Créer un menu déroulant\n",
    "dropdown = widgets.Dropdown(\n",
    "    options=dt,\n",
    "    description=\"Weapon Damage Type\",\n",
    "    style={'description_width': 'initial'}\n",
    ")\n",
    "\n",
    "# Fonction pour afficher les armes filtrées\n",
    "def PrintScalling(SelectedDamageType):\n",
    "    filteredWeapons = db[db[SelectedDamageType] != \"-\"]\n",
    "    display(HTML(filteredWeapons.to_html(index=False)))\n",
    "    # Appliquer un style CSS pour limiter la largeur du tableau\n",
    "    display(HTML(\"\"\"\n",
    "        <style>\n",
    "            table { width: 100%; display: block; overflow-x: auto; }\n",
    "            th, td { padding: 5px; text-align: left; white-space: nowrap; }\n",
    "        </style>\n",
    "    \"\"\"))\n",
    "\n",
    "# Lier la fonction au widget\n",
    "widgets.interactive(PrintScalling, SelectedDamageType=dropdown)"
   ]
  },
  {
   "cell_type": "markdown",
   "metadata": {},
   "source": [
    "#### Top 5"
   ]
  },
  {
   "cell_type": "code",
   "execution_count": 16,
   "metadata": {},
   "outputs": [
    {
     "data": {
      "application/vnd.jupyter.widget-view+json": {
       "model_id": "549f3757672a46bf81dbe560d826ad94",
       "version_major": 2,
       "version_minor": 0
      },
      "text/plain": [
       "interactive(children=(Dropdown(description='Stat', options=('Physic Damage', 'Magic Damage', 'Fire Damage', 'L…"
      ]
     },
     "metadata": {},
     "output_type": "display_data"
    }
   ],
   "source": [
    "dt = [\"Physic Damage\", \"Magic Damage\", \"Fire Damage\", \"Light Damage\", \"Holy Damage\", \"Stamina\", \"Crit Damage\", \"Weight\"]\n",
    "\n",
    "# Créer un menu déroulant\n",
    "dropdown = widgets.Dropdown(\n",
    "    options=dt,\n",
    "    description=\"Stat\",\n",
    "    style={'description_width': 'initial'}\n",
    ")\n",
    "\n",
    "checkbox = widgets.Checkbox(value=False, description=\"Asc\")\n",
    "\n",
    "# Fonction pour afficher les armes filtrées\n",
    "def PrintScalling(SelectedStat, asc):\n",
    "    db[SelectedStat] = pd.to_numeric(db[SelectedStat], errors=\"coerce\")\n",
    "    filteredWeapons = db.sort_values(by=SelectedStat, ascending=asc).head(5)\n",
    "    display(HTML(filteredWeapons.to_html(index=False)))\n",
    "    # Appliquer un style CSS pour limiter la largeur du tableau\n",
    "    display(HTML(\"\"\"\n",
    "        <style>\n",
    "            table { width: 100%; display: block; overflow-x: auto; }\n",
    "            th, td { padding: 5px; text-align: left; white-space: nowrap; }\n",
    "        </style>\n",
    "    \"\"\"))\n",
    "\n",
    "# Lier la fonction au widget\n",
    "widgets.interactive(PrintScalling, SelectedStat=dropdown, asc=checkbox)"
   ]
  },
  {
   "cell_type": "markdown",
   "metadata": {},
   "source": [
    "### Mo' Analytics!"
   ]
  },
  {
   "cell_type": "markdown",
   "metadata": {},
   "source": [
    "##### Weapon Type Quantity"
   ]
  },
  {
   "cell_type": "code",
   "execution_count": 17,
   "metadata": {},
   "outputs": [
    {
     "name": "stderr",
     "output_type": "stream",
     "text": [
      "C:\\Users\\hodow\\AppData\\Local\\Temp\\ipykernel_14876\\1968380869.py:5: FutureWarning: \n",
      "\n",
      "Passing `palette` without assigning `hue` is deprecated and will be removed in v0.14.0. Assign the `y` variable to `hue` and set `legend=False` for the same effect.\n",
      "\n",
      "  sns.barplot(y=armes_par_type.index, x=armes_par_type.values, palette=\"coolwarm\")\n"
     ]
    },
    {
     "data": {
      "image/png": "[encoded data removed]",
      "text/plain": [
       "<Figure size 1000x600 with 1 Axes>"
      ]
     },
     "metadata": {},
     "output_type": "display_data"
    }
   ],
   "source": [
    "armes_par_type = db[\"Type\"].value_counts()\n",
    "\n",
    "# Créer un graphique en barres horizontales\n",
    "plt.figure(figsize=(10, 6))\n",
    "sns.barplot(y=armes_par_type.index, x=armes_par_type.values, palette=\"coolwarm\")\n",
    "\n",
    "# Ajouter les labels et le titre\n",
    "plt.ylabel(\"Weapon type\")\n",
    "plt.xlabel(\"Number of weapon\")\n",
    "plt.title(\"Number of weapon per type\")\n",
    "\n",
    "# Afficher le nombre d'armes sur chaque barre\n",
    "for index, value in enumerate(armes_par_type.values):\n",
    "    plt.text(value + 0.5, index, str(value), va=\"center\", fontsize=10)\n",
    "\n",
    "# Afficher le graphique\n",
    "plt.show()"
   ]
  },
  {
   "cell_type": "markdown",
   "metadata": {},
   "source": [
    "##### Weapon For Damage Type Quantity"
   ]
  },
  {
   "cell_type": "code",
   "execution_count": 18,
   "metadata": {},
   "outputs": [
    {
     "data": {
      "application/vnd.jupyter.widget-view+json": {
       "model_id": "5a73d13a96c145cd81f123606d837c94",
       "version_major": 2,
       "version_minor": 0
      },
      "text/plain": [
       "interactive(children=(Dropdown(description='Damage Type:', options=('Physic Damage', 'Magic Damage', 'Fire Dam…"
      ]
     },
     "metadata": {},
     "output_type": "display_data"
    }
   ],
   "source": [
    "def afficher_pie_chart(damage_type):\n",
    "    db[damage_type] = pd.to_numeric(db[damage_type], errors=\"coerce\")\n",
    "\n",
    "    # Filtrer les armes ayant des dégâts > 0 pour le type sélectionné\n",
    "    filtered_db = db[db[damage_type] > 0]\n",
    "    \n",
    "    # Calculer les pourcentages par type d'arme\n",
    "    type_counts = filtered_db[\"Type\"].value_counts(normalize=True) * 100  # Pourcentage\n",
    "    \n",
    "    # Créer le diagramme circulaire\n",
    "    plt.figure(figsize=(8, 8))\n",
    "    plt.pie(type_counts, labels=type_counts.index, autopct=\"%1.1f%%\", startangle=140, \n",
    "        colors=plt.cm.Paired.colors, wedgeprops={\"linewidth\": 1, \"edgecolor\": \"white\"})\n",
    "    plt.title(f\"Weapon pourcentage for {damage_type}\")\n",
    "    plt.show()\n",
    "\n",
    "# Dropdown interactif\n",
    "damage_types = [\"Physic Damage\", \"Magic Damage\", \"Fire Damage\", \"Light Damage\", \"Holy Damage\"]  # Trouver les colonnes de dégâts\n",
    "dropdown = widgets.Dropdown(options=damage_types, description=\"Damage Type:\", style={'description_width': 'initial'})\n",
    "\n",
    "# Interface interactive\n",
    "widgets.interactive(afficher_pie_chart, damage_type=dropdown)"
   ]
  }
 ],
 "metadata": {
  "kernelspec": {
   "display_name": "base",
   "language": "python",
   "name": "python3"
  },
  "language_info": {
   "codemirror_mode": {
    "name": "ipython",
    "version": 3
   },
   "file_extension": ".py",
   "mimetype": "text/x-python",
   "name": "python",
   "nbconvert_exporter": "python",
   "pygments_lexer": "ipython3",
   "version": "3.12.7"
  }
 },
 "nbformat": 4,
 "nbformat_minor": 2
}
